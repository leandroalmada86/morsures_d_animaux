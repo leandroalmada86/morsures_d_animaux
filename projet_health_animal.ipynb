{
 "metadata": {
  "language_info": {
   "codemirror_mode": {
    "name": "ipython",
    "version": 3
   },
   "file_extension": ".py",
   "mimetype": "text/x-python",
   "name": "python",
   "nbconvert_exporter": "python",
   "pygments_lexer": "ipython3",
   "version": "3.8.5"
  },
  "orig_nbformat": 2,
  "kernelspec": {
   "name": "python385jvsc74a57bd031f2aee4e71d21fbe5cf8b01ff0e069b9275f58929596ceb00d14d90e3e16cd6",
   "display_name": "Python 3.8.5 64-bit"
  },
  "metadata": {
   "interpreter": {
    "hash": "31f2aee4e71d21fbe5cf8b01ff0e069b9275f58929596ceb00d14d90e3e16cd6"
   }
  }
 },
 "nbformat": 4,
 "nbformat_minor": 2,
 "cells": [
  {
   "cell_type": "code",
   "execution_count": 7,
   "metadata": {},
   "outputs": [
    {
     "output_type": "execute_result",
     "data": {
      "text/plain": [
       "                bite_date SpeciesIDDesc      BreedIDDesc GenderIDDesc  \\\n",
       "0     1985-05-05 00:00:00           DOG              NaN       FEMALE   \n",
       "1     1986-02-12 00:00:00           DOG              NaN      UNKNOWN   \n",
       "2     1987-05-07 00:00:00           DOG              NaN      UNKNOWN   \n",
       "3     1988-10-02 00:00:00           DOG              NaN         MALE   \n",
       "4     1989-08-29 00:00:00           DOG              NaN       FEMALE   \n",
       "...                   ...           ...              ...          ...   \n",
       "8998  2017-09-05 00:00:00           DOG              NaN          NaN   \n",
       "8999  2017-09-07 00:00:00           DOG       POMERANIAN         MALE   \n",
       "9000  2017-09-07 00:00:00           DOG  LABRADOR RETRIV         MALE   \n",
       "9001  2017-09-07 00:00:00           DOG  LABRADOR RETRIV       FEMALE   \n",
       "9002  2017-09-07 00:00:00           DOG            BOXER          NaN   \n",
       "\n",
       "           color  vaccination_yrs     vaccination_date victim_zip  \\\n",
       "0     LIG. BROWN              1.0  1985-06-20 00:00:00      40229   \n",
       "1      BRO & BLA              NaN                  NaN      40218   \n",
       "2            NaN              NaN                  NaN      40219   \n",
       "3      BLA & BRO              NaN                  NaN        NaN   \n",
       "4        BLK-WHT              NaN                  NaN        NaN   \n",
       "...          ...              ...                  ...        ...   \n",
       "8998         NaN              NaN                  NaN      40243   \n",
       "8999         RED              NaN                  NaN      40204   \n",
       "9000       BROWN              NaN                  NaN      47130   \n",
       "9001     BLK WHT              NaN                  NaN      40229   \n",
       "9002     BRN BLK              NaN                  NaN      40229   \n",
       "\n",
       "     AdvIssuedYNDesc WhereBittenIDDesc      quarantine_date DispositionIDDesc  \\\n",
       "0                 NO              BODY  1985-05-05 00:00:00           UNKNOWN   \n",
       "1                 NO              BODY  1986-02-12 00:00:00           UNKNOWN   \n",
       "2                 NO              BODY  1990-05-07 00:00:00           UNKNOWN   \n",
       "3                 NO              BODY  1990-10-02 00:00:00           UNKNOWN   \n",
       "4                 NO              BODY                  NaN           UNKNOWN   \n",
       "...              ...               ...                  ...               ...   \n",
       "8998             NaN           UNKNOWN                  NaN               NaN   \n",
       "8999             NaN              HEAD                  NaN               NaN   \n",
       "9000             NaN           UNKNOWN                  NaN               NaN   \n",
       "9001             NaN              BODY                  NaN               NaN   \n",
       "9002             NaN              BODY                  NaN               NaN   \n",
       "\n",
       "     head_sent_date release_date ResultsIDDesc  \n",
       "0               NaN          NaN       UNKNOWN  \n",
       "1               NaN          NaN       UNKNOWN  \n",
       "2               NaN          NaN       UNKNOWN  \n",
       "3               NaN          NaN       UNKNOWN  \n",
       "4               NaN          NaN       UNKNOWN  \n",
       "...             ...          ...           ...  \n",
       "8998            NaN          NaN           NaN  \n",
       "8999            NaN          NaN           NaN  \n",
       "9000            NaN          NaN           NaN  \n",
       "9001            NaN          NaN           NaN  \n",
       "9002            NaN          NaN           NaN  \n",
       "\n",
       "[9003 rows x 15 columns]"
      ],
      "text/html": "<div>\n<style scoped>\n    .dataframe tbody tr th:only-of-type {\n        vertical-align: middle;\n    }\n\n    .dataframe tbody tr th {\n        vertical-align: top;\n    }\n\n    .dataframe thead th {\n        text-align: right;\n    }\n</style>\n<table border=\"1\" class=\"dataframe\">\n  <thead>\n    <tr style=\"text-align: right;\">\n      <th></th>\n      <th>bite_date</th>\n      <th>SpeciesIDDesc</th>\n      <th>BreedIDDesc</th>\n      <th>GenderIDDesc</th>\n      <th>color</th>\n      <th>vaccination_yrs</th>\n      <th>vaccination_date</th>\n      <th>victim_zip</th>\n      <th>AdvIssuedYNDesc</th>\n      <th>WhereBittenIDDesc</th>\n      <th>quarantine_date</th>\n      <th>DispositionIDDesc</th>\n      <th>head_sent_date</th>\n      <th>release_date</th>\n      <th>ResultsIDDesc</th>\n    </tr>\n  </thead>\n  <tbody>\n    <tr>\n      <th>0</th>\n      <td>1985-05-05 00:00:00</td>\n      <td>DOG</td>\n      <td>NaN</td>\n      <td>FEMALE</td>\n      <td>LIG. BROWN</td>\n      <td>1.0</td>\n      <td>1985-06-20 00:00:00</td>\n      <td>40229</td>\n      <td>NO</td>\n      <td>BODY</td>\n      <td>1985-05-05 00:00:00</td>\n      <td>UNKNOWN</td>\n      <td>NaN</td>\n      <td>NaN</td>\n      <td>UNKNOWN</td>\n    </tr>\n    <tr>\n      <th>1</th>\n      <td>1986-02-12 00:00:00</td>\n      <td>DOG</td>\n      <td>NaN</td>\n      <td>UNKNOWN</td>\n      <td>BRO &amp; BLA</td>\n      <td>NaN</td>\n      <td>NaN</td>\n      <td>40218</td>\n      <td>NO</td>\n      <td>BODY</td>\n      <td>1986-02-12 00:00:00</td>\n      <td>UNKNOWN</td>\n      <td>NaN</td>\n      <td>NaN</td>\n      <td>UNKNOWN</td>\n    </tr>\n    <tr>\n      <th>2</th>\n      <td>1987-05-07 00:00:00</td>\n      <td>DOG</td>\n      <td>NaN</td>\n      <td>UNKNOWN</td>\n      <td>NaN</td>\n      <td>NaN</td>\n      <td>NaN</td>\n      <td>40219</td>\n      <td>NO</td>\n      <td>BODY</td>\n      <td>1990-05-07 00:00:00</td>\n      <td>UNKNOWN</td>\n      <td>NaN</td>\n      <td>NaN</td>\n      <td>UNKNOWN</td>\n    </tr>\n    <tr>\n      <th>3</th>\n      <td>1988-10-02 00:00:00</td>\n      <td>DOG</td>\n      <td>NaN</td>\n      <td>MALE</td>\n      <td>BLA &amp; BRO</td>\n      <td>NaN</td>\n      <td>NaN</td>\n      <td>NaN</td>\n      <td>NO</td>\n      <td>BODY</td>\n      <td>1990-10-02 00:00:00</td>\n      <td>UNKNOWN</td>\n      <td>NaN</td>\n      <td>NaN</td>\n      <td>UNKNOWN</td>\n    </tr>\n    <tr>\n      <th>4</th>\n      <td>1989-08-29 00:00:00</td>\n      <td>DOG</td>\n      <td>NaN</td>\n      <td>FEMALE</td>\n      <td>BLK-WHT</td>\n      <td>NaN</td>\n      <td>NaN</td>\n      <td>NaN</td>\n      <td>NO</td>\n      <td>BODY</td>\n      <td>NaN</td>\n      <td>UNKNOWN</td>\n      <td>NaN</td>\n      <td>NaN</td>\n      <td>UNKNOWN</td>\n    </tr>\n    <tr>\n      <th>...</th>\n      <td>...</td>\n      <td>...</td>\n      <td>...</td>\n      <td>...</td>\n      <td>...</td>\n      <td>...</td>\n      <td>...</td>\n      <td>...</td>\n      <td>...</td>\n      <td>...</td>\n      <td>...</td>\n      <td>...</td>\n      <td>...</td>\n      <td>...</td>\n      <td>...</td>\n    </tr>\n    <tr>\n      <th>8998</th>\n      <td>2017-09-05 00:00:00</td>\n      <td>DOG</td>\n      <td>NaN</td>\n      <td>NaN</td>\n      <td>NaN</td>\n      <td>NaN</td>\n      <td>NaN</td>\n      <td>40243</td>\n      <td>NaN</td>\n      <td>UNKNOWN</td>\n      <td>NaN</td>\n      <td>NaN</td>\n      <td>NaN</td>\n      <td>NaN</td>\n      <td>NaN</td>\n    </tr>\n    <tr>\n      <th>8999</th>\n      <td>2017-09-07 00:00:00</td>\n      <td>DOG</td>\n      <td>POMERANIAN</td>\n      <td>MALE</td>\n      <td>RED</td>\n      <td>NaN</td>\n      <td>NaN</td>\n      <td>40204</td>\n      <td>NaN</td>\n      <td>HEAD</td>\n      <td>NaN</td>\n      <td>NaN</td>\n      <td>NaN</td>\n      <td>NaN</td>\n      <td>NaN</td>\n    </tr>\n    <tr>\n      <th>9000</th>\n      <td>2017-09-07 00:00:00</td>\n      <td>DOG</td>\n      <td>LABRADOR RETRIV</td>\n      <td>MALE</td>\n      <td>BROWN</td>\n      <td>NaN</td>\n      <td>NaN</td>\n      <td>47130</td>\n      <td>NaN</td>\n      <td>UNKNOWN</td>\n      <td>NaN</td>\n      <td>NaN</td>\n      <td>NaN</td>\n      <td>NaN</td>\n      <td>NaN</td>\n    </tr>\n    <tr>\n      <th>9001</th>\n      <td>2017-09-07 00:00:00</td>\n      <td>DOG</td>\n      <td>LABRADOR RETRIV</td>\n      <td>FEMALE</td>\n      <td>BLK WHT</td>\n      <td>NaN</td>\n      <td>NaN</td>\n      <td>40229</td>\n      <td>NaN</td>\n      <td>BODY</td>\n      <td>NaN</td>\n      <td>NaN</td>\n      <td>NaN</td>\n      <td>NaN</td>\n      <td>NaN</td>\n    </tr>\n    <tr>\n      <th>9002</th>\n      <td>2017-09-07 00:00:00</td>\n      <td>DOG</td>\n      <td>BOXER</td>\n      <td>NaN</td>\n      <td>BRN BLK</td>\n      <td>NaN</td>\n      <td>NaN</td>\n      <td>40229</td>\n      <td>NaN</td>\n      <td>BODY</td>\n      <td>NaN</td>\n      <td>NaN</td>\n      <td>NaN</td>\n      <td>NaN</td>\n      <td>NaN</td>\n    </tr>\n  </tbody>\n</table>\n<p>9003 rows × 15 columns</p>\n</div>"
     },
     "metadata": {},
     "execution_count": 7
    }
   ],
   "source": [
    "import pandas as pd \n",
    "import numpy as np \n",
    "import seaborn as sns\n",
    "import matplotlib.pyplot as plt \n",
    "%matplotlib inline\n",
    "path='./data/'\n",
    "df=pd.read_csv(path+'Health_AnimalBites.csv')\n",
    "df_plus=pd.read_csv(path+'age_adopte.csv')\n",
    "df"
   ]
  },
  {
   "cell_type": "code",
   "execution_count": 8,
   "metadata": {},
   "outputs": [
    {
     "output_type": "execute_result",
     "data": {
      "text/plain": [
       "   age adopted\n",
       "0    2     Yes\n",
       "1   15     Yes\n",
       "2    5     Yes\n",
       "3   14     Yes\n",
       "4    5      No"
      ],
      "text/html": "<div>\n<style scoped>\n    .dataframe tbody tr th:only-of-type {\n        vertical-align: middle;\n    }\n\n    .dataframe tbody tr th {\n        vertical-align: top;\n    }\n\n    .dataframe thead th {\n        text-align: right;\n    }\n</style>\n<table border=\"1\" class=\"dataframe\">\n  <thead>\n    <tr style=\"text-align: right;\">\n      <th></th>\n      <th>age</th>\n      <th>adopted</th>\n    </tr>\n  </thead>\n  <tbody>\n    <tr>\n      <th>0</th>\n      <td>2</td>\n      <td>Yes</td>\n    </tr>\n    <tr>\n      <th>1</th>\n      <td>15</td>\n      <td>Yes</td>\n    </tr>\n    <tr>\n      <th>2</th>\n      <td>5</td>\n      <td>Yes</td>\n    </tr>\n    <tr>\n      <th>3</th>\n      <td>14</td>\n      <td>Yes</td>\n    </tr>\n    <tr>\n      <th>4</th>\n      <td>5</td>\n      <td>No</td>\n    </tr>\n  </tbody>\n</table>\n</div>"
     },
     "metadata": {},
     "execution_count": 8
    }
   ],
   "source": [
    "#tête de données \n",
    "df.head()\n",
    "df_plus.head()"
   ]
  },
  {
   "cell_type": "code",
   "execution_count": 10,
   "metadata": {},
   "outputs": [
    {
     "output_type": "stream",
     "name": "stdout",
     "text": [
      "<class 'pandas.core.frame.DataFrame'>\nRangeIndex: 9003 entries, 0 to 9002\nData columns (total 17 columns):\n #   Column             Non-Null Count  Dtype  \n---  ------             --------------  -----  \n 0   bite_date          8686 non-null   object \n 1   SpeciesIDDesc      8885 non-null   object \n 2   BreedIDDesc        3759 non-null   object \n 3   GenderIDDesc       6477 non-null   object \n 4   color              6426 non-null   object \n 5   vaccination_yrs    3738 non-null   float64\n 6   vaccination_date   4115 non-null   object \n 7   victim_zip         7165 non-null   object \n 8   AdvIssuedYNDesc    2565 non-null   object \n 9   WhereBittenIDDesc  8387 non-null   object \n 10  quarantine_date    2020 non-null   object \n 11  DispositionIDDesc  1535 non-null   object \n 12  head_sent_date     395 non-null    object \n 13  release_date       1445 non-null   object \n 14  ResultsIDDesc      1543 non-null   object \n 15  age                9003 non-null   int64  \n 16  adopted            9003 non-null   object \ndtypes: float64(1), int64(1), object(15)\nmemory usage: 1.2+ MB\n"
     ]
    }
   ],
   "source": [
    "frames = [df, df_plus]\n",
    "result = pd.concat(frames, axis=1, join=\"inner\")\n",
    "result.info()"
   ]
  },
  {
   "cell_type": "code",
   "execution_count": 11,
   "metadata": {},
   "outputs": [
    {
     "output_type": "execute_result",
     "data": {
      "text/plain": [
       "       vaccination_yrs          age\n",
       "count      3738.000000  9003.000000\n",
       "mean          1.452113     9.759525\n",
       "std           0.848416     6.200640\n",
       "min           1.000000     0.000000\n",
       "25%           1.000000     5.000000\n",
       "50%           1.000000     9.000000\n",
       "75%           1.000000    15.000000\n",
       "max          11.000000    21.000000"
      ],
      "text/html": "<div>\n<style scoped>\n    .dataframe tbody tr th:only-of-type {\n        vertical-align: middle;\n    }\n\n    .dataframe tbody tr th {\n        vertical-align: top;\n    }\n\n    .dataframe thead th {\n        text-align: right;\n    }\n</style>\n<table border=\"1\" class=\"dataframe\">\n  <thead>\n    <tr style=\"text-align: right;\">\n      <th></th>\n      <th>vaccination_yrs</th>\n      <th>age</th>\n    </tr>\n  </thead>\n  <tbody>\n    <tr>\n      <th>count</th>\n      <td>3738.000000</td>\n      <td>9003.000000</td>\n    </tr>\n    <tr>\n      <th>mean</th>\n      <td>1.452113</td>\n      <td>9.759525</td>\n    </tr>\n    <tr>\n      <th>std</th>\n      <td>0.848416</td>\n      <td>6.200640</td>\n    </tr>\n    <tr>\n      <th>min</th>\n      <td>1.000000</td>\n      <td>0.000000</td>\n    </tr>\n    <tr>\n      <th>25%</th>\n      <td>1.000000</td>\n      <td>5.000000</td>\n    </tr>\n    <tr>\n      <th>50%</th>\n      <td>1.000000</td>\n      <td>9.000000</td>\n    </tr>\n    <tr>\n      <th>75%</th>\n      <td>1.000000</td>\n      <td>15.000000</td>\n    </tr>\n    <tr>\n      <th>max</th>\n      <td>11.000000</td>\n      <td>21.000000</td>\n    </tr>\n  </tbody>\n</table>\n</div>"
     },
     "metadata": {},
     "execution_count": 11
    }
   ],
   "source": [
    "#Stats descriptives du dataset\n",
    "result.describe()"
   ]
  },
  {
   "cell_type": "code",
   "execution_count": null,
   "metadata": {},
   "outputs": [],
   "source": []
  }
 ]
}